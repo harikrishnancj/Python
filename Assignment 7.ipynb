{
 "cells": [
  {
   "cell_type": "markdown",
   "id": "1f051b47-4dcf-4895-8b38-211e07afa05a",
   "metadata": {},
   "source": [
    "'''Exercise 1: (Score : 1) Create a numpy array containing the numbers from 1 to 10, and then reshape it to a 2x5 matrix. \n",
    "Exercise 2: (Score : 1) Create a numpy array containing the numbers from 1 to 20, and then extract the elements between the 5th and 15th index. \n",
    "Exercise 3: (Score : 2) Create a Pandas series with the following data: {'apples': 3, 'bananas': 2, 'oranges': 1}. Then, add a new item to the series with the key 'pears' and the value 4. \n",
    "Exercise 4: (Score : 2) Create a dataframe with the following columns: name, age, and gender. The dataframe should have 10 rows of data. \n",
    "Exercise 5: (Score : 1) Add a new column to the data frame created in question 1, called occupation. The values for this column should be Programmer, Manager, and Analyst, corresponding to the rows in the dataframe. \n",
    "Exercise 6: (Score : 1) Select the rows of the dataframe where the age is greater than or equal to 30.\n",
    "Exercise 7: (Score : 2) Convert this dataframe to a csv file and read that csv file, finally display the contents.'''\n"
   ]
  },
  {
   "cell_type": "markdown",
   "id": "caa6503d-744b-4454-bc92-f0f97a919407",
   "metadata": {},
   "source": [
    "Exercise 1"
   ]
  },
  {
   "cell_type": "code",
   "execution_count": 11,
   "id": "459c2e65-ea7f-4da6-9397-92494b7366fc",
   "metadata": {},
   "outputs": [
    {
     "name": "stdout",
     "output_type": "stream",
     "text": [
      "[ 1  2  3  4  5  6  7  8  9 10]\n"
     ]
    }
   ],
   "source": [
    "import numpy as np\n",
    "s=np.array(range(1,11))\n",
    "print(s)"
   ]
  },
  {
   "cell_type": "code",
   "execution_count": 5,
   "id": "6b3b6776-0052-47b9-b0ec-f0b801d442ba",
   "metadata": {},
   "outputs": [
    {
     "data": {
      "text/plain": [
       "array([[ 1,  2,  3,  4,  5],\n",
       "       [ 6,  7,  8,  9, 10]])"
      ]
     },
     "execution_count": 5,
     "metadata": {},
     "output_type": "execute_result"
    }
   ],
   "source": [
    "h=s.reshape(2,5)\n",
    "h"
   ]
  },
  {
   "cell_type": "markdown",
   "id": "4829ed8a-e053-431f-a265-757dc3162eda",
   "metadata": {},
   "source": [
    "Exercise 2"
   ]
  },
  {
   "cell_type": "code",
   "execution_count": 43,
   "id": "d3d0b4ee-5be8-4576-9ed9-2a23cb6d288a",
   "metadata": {},
   "outputs": [
    {
     "name": "stdout",
     "output_type": "stream",
     "text": [
      "The array :[ 1  2  3  4  5  6  7  8  9 10 11 12 13 14 15 16 17 18 19 20],\n",
      "The array after extraction of index 5 to 15 index inxluding them :[ 6  7  8  9 10 11 12 13 14 15 16]\n"
     ]
    }
   ],
   "source": [
    "d=np.array(range(1,21))\n",
    "e=d[5:16]\n",
    "print(f\"The array :{d},\\nThe array after extraction of index 5 to 15 index including them :{e}\")"
   ]
  },
  {
   "cell_type": "markdown",
   "id": "47fcf9fc-4f40-4aa3-a242-8f113c86f2c7",
   "metadata": {},
   "source": [
    "Exercise 3"
   ]
  },
  {
   "cell_type": "code",
   "execution_count": 15,
   "id": "c8cb967a-246d-42d3-9940-766285557589",
   "metadata": {},
   "outputs": [
    {
     "name": "stdout",
     "output_type": "stream",
     "text": [
      "Series :\n",
      "apples     3\n",
      "bananas    2\n",
      "oranges    1\n",
      "dtype: int64\n"
     ]
    }
   ],
   "source": [
    "import pandas as pd\n",
    "c={'apples': 3, 'bananas': 2, 'oranges': 1}\n",
    "i=pd.Series(c)\n",
    "print(f\"Series :\\n{i}\")"
   ]
  },
  {
   "cell_type": "code",
   "execution_count": 75,
   "id": "a549d1cc-4a1a-4d85-9e1e-b863300c311a",
   "metadata": {},
   "outputs": [
    {
     "name": "stdout",
     "output_type": "stream",
     "text": [
      "New updated :\n",
      "apples     3\n",
      "bananas    2\n",
      "oranges    1\n",
      "pears      4\n",
      "dtype: int64\n"
     ]
    }
   ],
   "source": [
    "i[\"pears\"]=4\n",
    "print(f\"New updated :\\n{i}\")"
   ]
  },
  {
   "cell_type": "markdown",
   "id": "b674d347-408f-4c50-b2ed-c320b1612f51",
   "metadata": {},
   "source": [
    "Exercise 4"
   ]
  },
  {
   "cell_type": "code",
   "execution_count": 25,
   "id": "40c4b15f-d22a-461f-bc32-2fe313454f6a",
   "metadata": {},
   "outputs": [
    {
     "name": "stdout",
     "output_type": "stream",
     "text": [
      "      Name  Age Gender\n",
      "0      Eve   42      M\n",
      "1  Charlie   19      F\n",
      "2  Charlie   48      M\n",
      "3    Alice   48      F\n",
      "4      Bob   18      F\n",
      "5  Charlie   35      M\n",
      "6      Bob   46      F\n",
      "7  Charlie   43      M\n",
      "8      Bob   38      F\n",
      "9    David   32      M\n"
     ]
    }
   ],
   "source": [
    "num_rows=10\n",
    "data = {\n",
    "     \"Name\":np.random.choice(['Alice', 'Bob', 'Charlie', 'David', 'Eve'], num_rows),\n",
    "      \"Age\":np.random.randint(18,50,num_rows),\n",
    "      \"Gender\":np.random.choice([\"M\",\"F\"],num_rows)}\n",
    "z=pd.DataFrame(data)\n",
    "print(z)"
   ]
  },
  {
   "cell_type": "markdown",
   "id": "6b845bbf-0aa8-4972-8490-8a3bcccbe9a9",
   "metadata": {},
   "source": [
    "Exercise 5"
   ]
  },
  {
   "cell_type": "code",
   "execution_count": 29,
   "id": "250caade-5ba9-486c-9477-a26044e2312e",
   "metadata": {},
   "outputs": [
    {
     "name": "stdout",
     "output_type": "stream",
     "text": [
      "      Name  Age Gender  occupation\n",
      "0      Eve   42      M     Manager\n",
      "1  Charlie   19      F     Manager\n",
      "2  Charlie   48      M  Programmer\n",
      "3    Alice   48      F  Programmer\n",
      "4      Bob   18      F     Analyst\n",
      "5  Charlie   35      M     Analyst\n",
      "6      Bob   46      F  Programmer\n",
      "7  Charlie   43      M     Analyst\n",
      "8      Bob   38      F     Analyst\n",
      "9    David   32      M     Manager\n"
     ]
    }
   ],
   "source": [
    "z[\"occupation\"]=np.random.choice([\"Programmer\",\"Manager\" ,\"Analyst\"],num_rows)\n",
    "print(z)"
   ]
  },
  {
   "cell_type": "markdown",
   "id": "86445108-3ea3-4a24-944d-6c549d6f86e6",
   "metadata": {},
   "source": [
    "Exercise 6"
   ]
  },
  {
   "cell_type": "code",
   "execution_count": 41,
   "id": "52aa46a8-4f59-46d9-8885-da09d08407fe",
   "metadata": {},
   "outputs": [
    {
     "name": "stdout",
     "output_type": "stream",
     "text": [
      "      Name  Age Gender  occupation\n",
      "0      Eve   42      M     Manager\n",
      "2  Charlie   48      M  Programmer\n",
      "3    Alice   48      F  Programmer\n",
      "5  Charlie   35      M     Analyst\n",
      "6      Bob   46      F  Programmer\n",
      "7  Charlie   43      M     Analyst\n",
      "8      Bob   38      F     Analyst\n",
      "9    David   32      M     Manager\n"
     ]
    }
   ],
   "source": [
    "print(z[z[\"Age\"]>=30])\n"
   ]
  },
  {
   "cell_type": "markdown",
   "id": "a8b9f39e-30df-49d0-a6b5-55cc9a1af8ab",
   "metadata": {},
   "source": [
    "Exercise 7"
   ]
  },
  {
   "cell_type": "code",
   "execution_count": 51,
   "id": "b0ad133e-42be-41e8-a191-8be3fc8e3adf",
   "metadata": {},
   "outputs": [
    {
     "name": "stdout",
     "output_type": "stream",
     "text": [
      "display the conten :\n",
      "      Name  Age Gender  occupation\n",
      "0      Eve   42      M     Manager\n",
      "1  Charlie   19      F     Manager\n",
      "2  Charlie   48      M  Programmer\n",
      "3    Alice   48      F  Programmer\n",
      "4      Bob   18      F     Analyst\n",
      "5  Charlie   35      M     Analyst\n",
      "6      Bob   46      F  Programmer\n",
      "7  Charlie   43      M     Analyst\n",
      "8      Bob   38      F     Analyst\n",
      "9    David   32      M     Manager\n"
     ]
    }
   ],
   "source": [
    "z.to_csv('data.csv',index=False)\n",
    "y=pd.read_csv('data.csv')\n",
    "print(f\"display the conten :\\n{y}\")"
   ]
  }
 ],
 "metadata": {
  "kernelspec": {
   "display_name": "Python 3 (ipykernel)",
   "language": "python",
   "name": "python3"
  },
  "language_info": {
   "codemirror_mode": {
    "name": "ipython",
    "version": 3
   },
   "file_extension": ".py",
   "mimetype": "text/x-python",
   "name": "python",
   "nbconvert_exporter": "python",
   "pygments_lexer": "ipython3",
   "version": "3.12.4"
  }
 },
 "nbformat": 4,
 "nbformat_minor": 5
}
